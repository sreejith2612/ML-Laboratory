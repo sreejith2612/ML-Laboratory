{
 "cells": [
  {
   "cell_type": "code",
   "execution_count": 1,
   "metadata": {},
   "outputs": [
    {
     "name": "stdout",
     "output_type": "stream",
     "text": [
      "     Sky AirTemp Humidity    Wind Water Forecast  EnjoySport\n",
      "0  Sunny    Warm   Normal  Strong  Warm     Same           1\n",
      "1  Sunny    Warm     High  Strong  Warm     Same           1\n",
      "2  Rainy    Cold     High  Strong  Warm   Change           0\n",
      "3  Sunny    Warm     High  Strong  Cool   Change           1\n",
      "-----------\n",
      "[['Sunny' 'Warm' 'Normal' 'Strong' 'Warm' 'Same']\n",
      " ['Sunny' 'Warm' 'High' 'Strong' 'Warm' 'Same']\n",
      " ['Rainy' 'Cold' 'High' 'Strong' 'Warm' 'Change']\n",
      " ['Sunny' 'Warm' 'High' 'Strong' 'Cool' 'Change']]\n",
      "-----------\n",
      "[1 1 0 1]\n",
      "-----------\n"
     ]
    },
    {
     "ename": "UnboundLocalError",
     "evalue": "cannot access local variable 'specific_h' where it is not associated with a value",
     "output_type": "error",
     "traceback": [
      "\u001b[1;31m---------------------------------------------------------------------------\u001b[0m",
      "\u001b[1;31mUnboundLocalError\u001b[0m                         Traceback (most recent call last)",
      "Cell \u001b[1;32mIn[1], line 51\u001b[0m\n\u001b[0;32m     49\u001b[0m \u001b[39mprint\u001b[39m(\u001b[39m\"\u001b[39m\u001b[39m-----------\u001b[39m\u001b[39m\"\u001b[39m)\n\u001b[0;32m     50\u001b[0m \u001b[39m# Apply the FIND-S algorithm to find the specific hypothesis\u001b[39;00m\n\u001b[1;32m---> 51\u001b[0m h1 \u001b[39m=\u001b[39m find_s(concepts,targets)\n\u001b[0;32m     52\u001b[0m \u001b[39mprint\u001b[39m(\u001b[39m\"\u001b[39m\u001b[39mMost specific hypothesis by FIND-S algorithm is:\u001b[39m\u001b[39m\"\u001b[39m, h1)\n\u001b[0;32m     54\u001b[0m \u001b[39m# Apply the LIST THEN ELIMINATE algorithm to find the most specific hypothesis\u001b[39;00m\n",
      "Cell \u001b[1;32mIn[1], line 20\u001b[0m, in \u001b[0;36mfind_s\u001b[1;34m(con, tar)\u001b[0m\n\u001b[0;32m     17\u001b[0m             \u001b[39melse\u001b[39;00m:\n\u001b[0;32m     18\u001b[0m                 \u001b[39mpass\u001b[39;00m\n\u001b[1;32m---> 20\u001b[0m \u001b[39mreturn\u001b[39;00m specific_h\n",
      "\u001b[1;31mUnboundLocalError\u001b[0m: cannot access local variable 'specific_h' where it is not associated with a value"
     ]
    }
   ],
   "source": [
    "import pandas as pd\n",
    "import numpy as np\n",
    "\n",
    "def find_s(con, tar):\n",
    "    # Initialize the specific hypothesis to the first positive example\n",
    "    for i, val in enumerate(tar):\n",
    "        if val == 'yes':\n",
    "            specific_h = con[i].copy()\n",
    "            break\n",
    "            \n",
    "    # Loop through the positive examples and update the specific hypothesis\n",
    "    for i, val in enumerate(con):\n",
    "        if tar[i] == 'yes':\n",
    "            for j in range(len(specific_h)):\n",
    "                if val[j] != specific_h[j]:\n",
    "                    specific_h[j] = '?'\n",
    "                else:\n",
    "                    pass\n",
    "    \n",
    "    return specific_h\n",
    "\n",
    "def list_then_eliminate(con, tar):\n",
    "    # Initialize the most general hypothesis\n",
    "    general_h = ['?' for i in range(len(con[0]))]\n",
    "    \n",
    "    # Loop through the positive examples and eliminate any inconsistent attribute\n",
    "    for i, val in enumerate(tar):\n",
    "        if val == 'yes':\n",
    "            for j in range(len(con[i])):\n",
    "                if general_h[j] == '?':\n",
    "                    general_h[j] = con[i][j]\n",
    "                elif general_h[j] != con[i][j]:\n",
    "                    general_h[j] = '?'\n",
    "    \n",
    "    return general_h\n",
    "\n",
    "\n",
    "# Load the dataset from a CSV file\n",
    "data = pd.read_csv('ENJOYSPORT.csv')\n",
    "print(data) \n",
    "\n",
    "# Split the dataset into attributes and target variable\n",
    "print(\"-----------\")\n",
    "concepts=np.array(data)[:,:-1]\n",
    "print(concepts)\n",
    "print(\"-----------\")\n",
    "targets=np.array(data)[:,-1]\n",
    "print(targets)\n",
    "print(\"-----------\")\n",
    "# Apply the FIND-S algorithm to find the specific hypothesis\n",
    "h1 = find_s(concepts,targets)\n",
    "print(\"Most specific hypothesis by FIND-S algorithm is:\", h1)\n",
    "\n",
    "# Apply the LIST THEN ELIMINATE algorithm to find the most specific hypothesis\n",
    "h2 = list_then_eliminate(concepts,targets)\n",
    "print(\"Final hypothesis space by LIST THEN ELIMINATE algorithm is:\", h2)"
   ]
  }
 ],
 "metadata": {
  "kernelspec": {
   "display_name": "Python 3",
   "language": "python",
   "name": "python3"
  },
  "language_info": {
   "codemirror_mode": {
    "name": "ipython",
    "version": 3
   },
   "file_extension": ".py",
   "mimetype": "text/x-python",
   "name": "python",
   "nbconvert_exporter": "python",
   "pygments_lexer": "ipython3",
   "version": "3.11.0"
  },
  "orig_nbformat": 4
 },
 "nbformat": 4,
 "nbformat_minor": 2
}
